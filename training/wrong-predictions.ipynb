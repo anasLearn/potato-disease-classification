{
 "cells": [
  {
   "cell_type": "code",
   "execution_count": 1,
   "id": "0473a5e2-4ece-4660-bd11-c4da8ee8da88",
   "metadata": {},
   "outputs": [],
   "source": [
    "# Install pip packages in the current Jupyter kernel\n",
    "# Uncomment if needed\n",
    "\n",
    "# import sys\n",
    "# !{sys.executable} -m pip install --quiet --upgrade pip \n",
    "# !{sys.executable} -m pip install --quiet tensorflow \n",
    "# !{sys.executable} -m pip install --quiet matplotlib"
   ]
  },
  {
   "cell_type": "code",
   "execution_count": 2,
   "id": "7d5b8771-79b3-4bcf-89a1-f46e1dd0dd62",
   "metadata": {},
   "outputs": [
    {
     "name": "stderr",
     "output_type": "stream",
     "text": [
      "2023-09-11 20:04:13.334404: I tensorflow/core/platform/cpu_feature_guard.cc:182] This TensorFlow binary is optimized to use available CPU instructions in performance-critical operations.\n",
      "To enable the following instructions: AVX2 FMA, in other operations, rebuild TensorFlow with the appropriate compiler flags.\n"
     ]
    }
   ],
   "source": [
    "import tensorflow as tf\n",
    "import numpy as np\n",
    "import matplotlib.pyplot as plt"
   ]
  },
  {
   "cell_type": "markdown",
   "id": "8bec9748-d8d6-4d95-997b-fe5b51e484cd",
   "metadata": {},
   "source": [
    "# Load the model from the disk"
   ]
  },
  {
   "cell_type": "code",
   "execution_count": 3,
   "id": "1bd1e932-df52-4fae-bbc1-2761b959b951",
   "metadata": {},
   "outputs": [
    {
     "name": "stderr",
     "output_type": "stream",
     "text": [
      "2023-09-11 20:04:18.352128: I tensorflow/compiler/xla/stream_executor/cuda/cuda_gpu_executor.cc:981] could not open file to read NUMA node: /sys/bus/pci/devices/0000:01:00.0/numa_node\n",
      "Your kernel may have been built without NUMA support.\n",
      "2023-09-11 20:04:18.409976: I tensorflow/compiler/xla/stream_executor/cuda/cuda_gpu_executor.cc:981] could not open file to read NUMA node: /sys/bus/pci/devices/0000:01:00.0/numa_node\n",
      "Your kernel may have been built without NUMA support.\n",
      "2023-09-11 20:04:18.410475: I tensorflow/compiler/xla/stream_executor/cuda/cuda_gpu_executor.cc:981] could not open file to read NUMA node: /sys/bus/pci/devices/0000:01:00.0/numa_node\n",
      "Your kernel may have been built without NUMA support.\n",
      "2023-09-11 20:04:18.414518: I tensorflow/compiler/xla/stream_executor/cuda/cuda_gpu_executor.cc:981] could not open file to read NUMA node: /sys/bus/pci/devices/0000:01:00.0/numa_node\n",
      "Your kernel may have been built without NUMA support.\n",
      "2023-09-11 20:04:18.415100: I tensorflow/compiler/xla/stream_executor/cuda/cuda_gpu_executor.cc:981] could not open file to read NUMA node: /sys/bus/pci/devices/0000:01:00.0/numa_node\n",
      "Your kernel may have been built without NUMA support.\n",
      "2023-09-11 20:04:18.415545: I tensorflow/compiler/xla/stream_executor/cuda/cuda_gpu_executor.cc:981] could not open file to read NUMA node: /sys/bus/pci/devices/0000:01:00.0/numa_node\n",
      "Your kernel may have been built without NUMA support.\n",
      "2023-09-11 20:04:20.498872: I tensorflow/compiler/xla/stream_executor/cuda/cuda_gpu_executor.cc:981] could not open file to read NUMA node: /sys/bus/pci/devices/0000:01:00.0/numa_node\n",
      "Your kernel may have been built without NUMA support.\n",
      "2023-09-11 20:04:20.499446: I tensorflow/compiler/xla/stream_executor/cuda/cuda_gpu_executor.cc:981] could not open file to read NUMA node: /sys/bus/pci/devices/0000:01:00.0/numa_node\n",
      "Your kernel may have been built without NUMA support.\n",
      "2023-09-11 20:04:20.499467: I tensorflow/core/common_runtime/gpu/gpu_device.cc:1726] Could not identify NUMA node of platform GPU id 0, defaulting to 0.  Your kernel may not have been built with NUMA support.\n",
      "2023-09-11 20:04:20.499898: I tensorflow/compiler/xla/stream_executor/cuda/cuda_gpu_executor.cc:981] could not open file to read NUMA node: /sys/bus/pci/devices/0000:01:00.0/numa_node\n",
      "Your kernel may have been built without NUMA support.\n",
      "2023-09-11 20:04:20.501044: I tensorflow/core/common_runtime/gpu/gpu_device.cc:1639] Created device /job:localhost/replica:0/task:0/device:GPU:0 with 2531 MB memory:  -> device: 0, name: Quadro M1200, pci bus id: 0000:01:00.0, compute capability: 5.0\n"
     ]
    }
   ],
   "source": [
    "MODEL_VERSION = 7\n",
    "model = tf.keras.models.load_model(f'./saved-models/models/{MODEL_VERSION}')"
   ]
  },
  {
   "cell_type": "markdown",
   "id": "840059ce-58da-4efc-af2b-a07401a339e5",
   "metadata": {},
   "source": [
    "# Constants and data"
   ]
  },
  {
   "cell_type": "code",
   "execution_count": 4,
   "id": "9581ef53-f1c1-44dd-ba88-583ec541ec48",
   "metadata": {},
   "outputs": [],
   "source": [
    "IMAGE_SIZE = 256\n",
    "BATCH_SIZE = 32\n",
    "CHANNELS = 3  # The RGB channels\n",
    "EPOCHS = 50"
   ]
  },
  {
   "cell_type": "code",
   "execution_count": 5,
   "id": "d6922614-4586-40c1-9c7c-68b1ba194402",
   "metadata": {},
   "outputs": [
    {
     "name": "stdout",
     "output_type": "stream",
     "text": [
      "Found 2152 files belonging to 3 classes.\n"
     ]
    },
    {
     "data": {
      "text/plain": [
       "<_BatchDataset element_spec=(TensorSpec(shape=(None, 256, 256, 3), dtype=tf.float32, name=None), TensorSpec(shape=(None,), dtype=tf.int32, name=None))>"
      ]
     },
     "execution_count": 5,
     "metadata": {},
     "output_type": "execute_result"
    }
   ],
   "source": [
    "dataset = tf.keras.preprocessing.image_dataset_from_directory(\n",
    "    \"data\",\n",
    "    shuffle=True,\n",
    "    image_size=(IMAGE_SIZE, IMAGE_SIZE),\n",
    "    batch_size=BATCH_SIZE    \n",
    ")\n",
    "dataset"
   ]
  },
  {
   "cell_type": "code",
   "execution_count": 6,
   "id": "d61a18ee-f2f9-4977-96f6-20ea8bd59a41",
   "metadata": {},
   "outputs": [
    {
     "name": "stderr",
     "output_type": "stream",
     "text": [
      "2023-09-11 20:04:33.855512: W tensorflow/tsl/framework/cpu_allocator_impl.cc:83] Allocation of 25165824 exceeds 10% of free system memory.\n",
      "2023-09-11 20:04:33.904828: W tensorflow/tsl/framework/cpu_allocator_impl.cc:83] Allocation of 25165824 exceeds 10% of free system memory.\n",
      "2023-09-11 20:04:33.957516: W tensorflow/tsl/framework/cpu_allocator_impl.cc:83] Allocation of 25165824 exceeds 10% of free system memory.\n",
      "2023-09-11 20:04:34.003785: W tensorflow/tsl/framework/cpu_allocator_impl.cc:83] Allocation of 25165824 exceeds 10% of free system memory.\n",
      "2023-09-11 20:04:34.060991: W tensorflow/tsl/framework/cpu_allocator_impl.cc:83] Allocation of 25165824 exceeds 10% of free system memory.\n"
     ]
    },
    {
     "data": {
      "text/plain": [
       "68"
      ]
     },
     "execution_count": 6,
     "metadata": {},
     "output_type": "execute_result"
    }
   ],
   "source": [
    "len(list(dataset))"
   ]
  },
  {
   "cell_type": "code",
   "execution_count": 7,
   "id": "d991fac8-179f-4e62-b89f-5d65fa4f6149",
   "metadata": {},
   "outputs": [
    {
     "data": {
      "text/plain": [
       "['Potato___Early_blight', 'Potato___Late_blight', 'Potato___healthy']"
      ]
     },
     "execution_count": 7,
     "metadata": {},
     "output_type": "execute_result"
    }
   ],
   "source": [
    "class_names = dataset.class_names\n",
    "class_names"
   ]
  },
  {
   "cell_type": "markdown",
   "id": "2d96e4dd-2290-4d23-8690-cdde21c25634",
   "metadata": {},
   "source": [
    "## Let's find the wrong predictions"
   ]
  },
  {
   "cell_type": "code",
   "execution_count": 8,
   "id": "d9ea5602-3a90-4a8a-8844-78b6d3e41174",
   "metadata": {},
   "outputs": [
    {
     "name": "stdout",
     "output_type": "stream",
     "text": [
      "Batches:\n"
     ]
    },
    {
     "name": "stderr",
     "output_type": "stream",
     "text": [
      "2023-09-11 20:04:53.758386: I tensorflow/compiler/xla/stream_executor/cuda/cuda_dnn.cc:432] Loaded cuDNN version 8600\n"
     ]
    },
    {
     "name": "stdout",
     "output_type": "stream",
     "text": [
      "1.. 2.. 3.. 4.. 5.. 6.. 7.. 8.. 9.. 10.. 11.. 12.. 13.. 14.. 15.. 16.. 17.. 18.. 19.. 20.. 21.. 22.. 23.. 24.. 25.. 26.. 27.. 28.. 29.. 30.. 31.. 32.. 33.. 34.. 35.. 36.. 37.. 38.. 39.. 40.. 41.. 42.. 43.. 44.. 45.. 46.. 47.. 48.. 49.. 50.. 51.. 52.. 53.. 54.. 55.. 56.. 57.. 58.. 59.. 60.. 61.. 62.. 63.. 64.. 65.. 66.. 67.. 68.. \n",
      "\n",
      " 13 wrong predictions out of 68 images\n"
     ]
    }
   ],
   "source": [
    "wrong_predictions = []\n",
    "\n",
    "# We check in the whole dataset\n",
    "j = 1\n",
    "print(\"Batches:\")\n",
    "for images, labels in dataset.take(-1):\n",
    "    # Predict a batch\n",
    "    predictions = model.predict(images.numpy(), verbose=0)\n",
    "    print(j, end=\".. \") \n",
    "    j += 1\n",
    "\n",
    "    for label, prediction, image in zip(labels, predictions, images):\n",
    "        predicted_label = np.argmax(prediction)\n",
    "        if predicted_label != label:\n",
    "            wrong_predictions.append((image, class_names[label], class_names[predicted_label], round(100 * prediction[predicted_label], 2))) \n",
    "\n",
    "num_wrongs = len(wrong_predictions)\n",
    "lines = int(np.ceil(num_wrongs / 3))\n",
    "print(\"\\n\\n\", num_wrongs, \"wrong predictions out of\", dataset.cardinality().numpy(), \"images\")"
   ]
  },
  {
   "cell_type": "code",
   "execution_count": 9,
   "id": "46e0f65b-4702-49fd-a2ca-f70bc64ca6a5",
   "metadata": {},
   "outputs": [],
   "source": [
    "# Comment only to save space on GitHub\n",
    "# Uncomment if needed\n",
    "\n",
    "# plt.figure(figsize=(15, 5 * lines))\n",
    "# for i in range(num_wrongs):\n",
    "#     ax = plt.subplot(lines, 3, i + 1)\n",
    "\n",
    "#     image, actual_class, predicted_class, confidence = wrong_predictions[i]\n",
    "#     plt.imshow(image.numpy().astype(\"uint8\"))\n",
    "    \n",
    "#     plt.title(f\"Actual: {actual_class},\\n Predicted: {predicted_class}.\\n Confidence: {confidence}%\")\n",
    "    \n",
    "#     plt.axis(\"off\")"
   ]
  },
  {
   "cell_type": "code",
   "execution_count": null,
   "id": "618ae352-4373-47fc-931d-ffaa7a1ea71a",
   "metadata": {},
   "outputs": [],
   "source": []
  }
 ],
 "metadata": {
  "kernelspec": {
   "display_name": "Python 3 (ipykernel)",
   "language": "python",
   "name": "python3"
  },
  "language_info": {
   "codemirror_mode": {
    "name": "ipython",
    "version": 3
   },
   "file_extension": ".py",
   "mimetype": "text/x-python",
   "name": "python",
   "nbconvert_exporter": "python",
   "pygments_lexer": "ipython3",
   "version": "3.8.10"
  }
 },
 "nbformat": 4,
 "nbformat_minor": 5
}
